{
 "metadata": {
  "language_info": {
   "codemirror_mode": {
    "name": "ipython",
    "version": 3
   },
   "file_extension": ".py",
   "mimetype": "text/x-python",
   "name": "python",
   "nbconvert_exporter": "python",
   "pygments_lexer": "ipython3",
   "version": "3.8.5-final"
  },
  "orig_nbformat": 2,
  "kernelspec": {
   "name": "python3",
   "display_name": "Python 3",
   "language": "python"
  }
 },
 "nbformat": 4,
 "nbformat_minor": 2,
 "cells": [
  {
   "source": [
    "# AdaBoost"
   ],
   "cell_type": "markdown",
   "metadata": {}
  },
  {
   "source": [
    "## Load ds"
   ],
   "cell_type": "markdown",
   "metadata": {}
  },
  {
   "cell_type": "code",
   "execution_count": 1,
   "metadata": {},
   "outputs": [
    {
     "output_type": "execute_result",
     "data": {
      "text/plain": [
       "            x         y class\n",
       "0    0.051267  0.699560     P\n",
       "1   -0.092742  0.684940     P\n",
       "2   -0.213710  0.692250     P\n",
       "3   -0.375000  0.502190     P\n",
       "4   -0.513250  0.465640     P\n",
       "..        ...       ...   ...\n",
       "113 -0.720620  0.538740     N\n",
       "114 -0.593890  0.494880     N\n",
       "115 -0.484450  0.999270     N\n",
       "116 -0.006336  0.999270     N\n",
       "117  0.632650 -0.030612     N\n",
       "\n",
       "[118 rows x 3 columns]"
      ],
      "text/html": "<div>\n<style scoped>\n    .dataframe tbody tr th:only-of-type {\n        vertical-align: middle;\n    }\n\n    .dataframe tbody tr th {\n        vertical-align: top;\n    }\n\n    .dataframe thead th {\n        text-align: right;\n    }\n</style>\n<table border=\"1\" class=\"dataframe\">\n  <thead>\n    <tr style=\"text-align: right;\">\n      <th></th>\n      <th>x</th>\n      <th>y</th>\n      <th>class</th>\n    </tr>\n  </thead>\n  <tbody>\n    <tr>\n      <th>0</th>\n      <td>0.051267</td>\n      <td>0.699560</td>\n      <td>P</td>\n    </tr>\n    <tr>\n      <th>1</th>\n      <td>-0.092742</td>\n      <td>0.684940</td>\n      <td>P</td>\n    </tr>\n    <tr>\n      <th>2</th>\n      <td>-0.213710</td>\n      <td>0.692250</td>\n      <td>P</td>\n    </tr>\n    <tr>\n      <th>3</th>\n      <td>-0.375000</td>\n      <td>0.502190</td>\n      <td>P</td>\n    </tr>\n    <tr>\n      <th>4</th>\n      <td>-0.513250</td>\n      <td>0.465640</td>\n      <td>P</td>\n    </tr>\n    <tr>\n      <th>...</th>\n      <td>...</td>\n      <td>...</td>\n      <td>...</td>\n    </tr>\n    <tr>\n      <th>113</th>\n      <td>-0.720620</td>\n      <td>0.538740</td>\n      <td>N</td>\n    </tr>\n    <tr>\n      <th>114</th>\n      <td>-0.593890</td>\n      <td>0.494880</td>\n      <td>N</td>\n    </tr>\n    <tr>\n      <th>115</th>\n      <td>-0.484450</td>\n      <td>0.999270</td>\n      <td>N</td>\n    </tr>\n    <tr>\n      <th>116</th>\n      <td>-0.006336</td>\n      <td>0.999270</td>\n      <td>N</td>\n    </tr>\n    <tr>\n      <th>117</th>\n      <td>0.632650</td>\n      <td>-0.030612</td>\n      <td>N</td>\n    </tr>\n  </tbody>\n</table>\n<p>118 rows × 3 columns</p>\n</div>"
     },
     "metadata": {},
     "execution_count": 1
    }
   ],
   "source": [
    "import pandas as pd\n",
    "\n",
    "path_chips = \"/home/vutaliy/Downloads/chips.csv\"\n",
    "path_geyser = \"/home/vutaliy/Downloads/geyser.csv\"\n",
    "\n",
    "ds_chips = pd.read_csv(path_chips)\n",
    "ds_geyser = pd.read_csv(path_geyser)\n",
    "ds_chips"
   ]
  },
  {
   "cell_type": "code",
   "execution_count": null,
   "metadata": {},
   "outputs": [],
   "source": [
    "from sklearn.tree import DecisionTreeClassifier\n",
    "from math import log, exp\n",
    "\n",
    "class AdaBoost():\n",
    "    def __init__(self, size, criterion = \"gini\", splitter = \"best\"):\n",
    "        self.size = size\n",
    "        self.criterion = criterion\n",
    "        self.splitter = splitter\n",
    "        self.forest = []\n",
    "\n",
    "    def _fit_one(self, X, y, weghts):\n",
    "        ans_tree = NotImplemented\n",
    "        aos = float(\"-inf\")\n",
    "        upd = []\n",
    "\n",
    "        for j in range(X.shape[1]):\n",
    "\n",
    "                tree = DecisionTreeClassifier(criterion=self.criterion, splitter=self.splitter, max_depth=1)\n",
    "                tree.fit(X[:,j:j+1], y)\n",
    "                pred = tree.predict(y)\n",
    "\n",
    "                upd_w = self._find_wrong(pred, y)\n",
    "                new_weights = [u * w for u, w in zip(upd_w, weights)]\n",
    "                cur_aos = self._aos(new_weights)\n",
    "\n",
    "                if cur_aos > aos:\n",
    "                    aos = cur_aos\n",
    "                    ans_tree = tree\n",
    "                    upd = upd_w\n",
    "\n",
    "        return tree, aos, upd\n",
    "\n",
    "    def fit(self, X, y):\n",
    "        weights = [1 / X.shape[0] for i in range X.shape[0]]\n",
    "        ft, fao, fupd = self._fit_one(X, y)\n",
    "        self._reweight(faos, weights, fupd)\n",
    "        self.forest.append(ft)\n",
    "\n",
    "        for i in range(1, self.size):\n",
    "            new_X, new_y = self._generate_new_x(X)\n",
    "            tree, aos, upd = self._fit_one(new_X, new_y)\n",
    "            self._reweight(aos, weights, upd)\n",
    "            self.forest.append(tree)\n",
    "\n",
    "    def predict(self, y):\n",
    "\n",
    "\n",
    "    @staticmethod\n",
    "    def _find_wrong(pred, answ):\n",
    "        return [ 1 if p == a else 0 for p, a in zip(pred, answ) ]\n",
    "\n",
    "    @staticmethod\n",
    "    def _total_error(weights):\n",
    "        return sum(weights)\n",
    "                \n",
    "    @staticmethod\n",
    "    def _aos(weights):\n",
    "        err = self._total_error(weights)\n",
    "        return log((1 - err) / err) / 2\n",
    "\n",
    "    @staticmethod  \n",
    "    def _reweight(self, aos, weights, upd):\n",
    "        return [ w * exp(aos) if u == 1 else w * exp(-aos) for w, u in zip(weights, upd)]\n",
    "    \n",
    "    @staticmethod\n",
    "    def _generate_new_x(X):\n",
    "        \n",
    "\n",
    "\n",
    "    @staticmethod\n",
    "    def accuracy(answers, classes):\n",
    "        return sum([x == y for x, y in zip(answers, classes)]) / len(answers)\n",
    "                \n",
    "\n",
    "\n",
    "\n",
    "\n",
    "\n",
    "    "
   ]
  },
  {
   "cell_type": "code",
   "execution_count": null,
   "metadata": {},
   "outputs": [],
   "source": [
    "size = [1, 2, 3, 5, 8, 13, 21, 34, 55]"
   ]
  },
  {
   "cell_type": "code",
   "execution_count": 60,
   "metadata": {},
   "outputs": [
    {
     "output_type": "execute_result",
     "data": {
      "text/plain": [
       "2"
      ]
     },
     "metadata": {},
     "execution_count": 60
    }
   ],
   "source": [
    "from sklearn.tree import DecisionTreeClassifier\n",
    "\n",
    "kek = \"s\"\n",
    "clf = DecisionTreeClassifier(max_depth=1)\n",
    "clf.fit([[1,1],[2,2],[2,4],[2,4],[3,3]],[3,2,1,2,1])\n",
    "clf.predict([[1,1],[2,2]])\n",
    "\n",
    "kek = 2\n",
    "kek\n",
    "# import numpy as np\n",
    "# lst = np.array([[1,1],[2,2],[2,4],[3,3]])\n",
    "# lst[:,2:3]"
   ]
  },
  {
   "cell_type": "code",
   "execution_count": 64,
   "metadata": {},
   "outputs": [
    {
     "output_type": "execute_result",
     "data": {
      "text/plain": [
       "2.0"
      ]
     },
     "metadata": {},
     "execution_count": 64
    }
   ],
   "source": [
    "from math import exp, log\n",
    "\n",
    "pred = [1,2,3]\n",
    "answ = [3,2,1]\n",
    "[ 1 if p == a else 0 for p, a in zip(pred, answ)]\n",
    "\n",
    "exp(log(2))"
   ]
  }
 ]
}