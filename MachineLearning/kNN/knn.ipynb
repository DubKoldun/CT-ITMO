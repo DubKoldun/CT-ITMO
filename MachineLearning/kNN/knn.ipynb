{
 "metadata": {
  "language_info": {
   "codemirror_mode": {
    "name": "ipython",
    "version": 3
   },
   "file_extension": ".py",
   "mimetype": "text/x-python",
   "name": "python",
   "nbconvert_exporter": "python",
   "pygments_lexer": "ipython3",
   "version": "3.8.5-final"
  },
  "orig_nbformat": 2,
  "kernelspec": {
   "name": "Python 3.8.5 64-bit",
   "display_name": "Python 3.8.5 64-bit",
   "metadata": {
    "interpreter": {
     "hash": "9c2f02a15c1cc9ba21423b72cbe5965fe186401513a05d75be4d84a4154a9a2c"
    }
   }
  }
 },
 "nbformat": 4,
 "nbformat_minor": 2,
 "cells": [
  {
   "source": [
    "# K-nearest neighbours"
   ],
   "cell_type": "markdown",
   "metadata": {}
  },
  {
   "source": [
    "## Import dataset"
   ],
   "cell_type": "markdown",
   "metadata": {}
  },
  {
   "source": [
    "import pandas as pd\n",
    "import numpy as np\n",
    "\n",
    "dataset = pd.read_csv('/home/vutaliy/Downloads/dataset_54_vehicle.csv')\n",
    "dataset.describe()"
   ],
   "cell_type": "code",
   "metadata": {
    "tags": []
   },
   "execution_count": 90,
   "outputs": [
    {
     "output_type": "execute_result",
     "data": {
      "text/plain": [
       "       COMPACTNESS  CIRCULARITY  DISTANCE_CIRCULARITY  RADIUS_RATIO  \\\n",
       "count   846.000000   846.000000            846.000000    846.000000   \n",
       "mean     93.678487    44.861702             82.088652    168.940898   \n",
       "std       8.234474     6.169866             15.771533     33.472183   \n",
       "min      73.000000    33.000000             40.000000    104.000000   \n",
       "25%      87.000000    40.000000             70.000000    141.000000   \n",
       "50%      93.000000    44.000000             80.000000    167.000000   \n",
       "75%     100.000000    49.000000             98.000000    195.000000   \n",
       "max     119.000000    59.000000            112.000000    333.000000   \n",
       "\n",
       "       PR.AXIS_ASPECT_RATIO  MAX.LENGTH_ASPECT_RATIO  SCATTER_RATIO  \\\n",
       "count            846.000000               846.000000     846.000000   \n",
       "mean              61.693853                 8.567376     168.839243   \n",
       "std                7.888251                 4.601217      33.244978   \n",
       "min               47.000000                 2.000000     112.000000   \n",
       "25%               57.000000                 7.000000     146.250000   \n",
       "50%               61.000000                 8.000000     157.000000   \n",
       "75%               65.000000                10.000000     198.000000   \n",
       "max              138.000000                55.000000     265.000000   \n",
       "\n",
       "       ELONGATEDNESS  PR.AXIS_RECTANGULARITY  MAX.LENGTH_RECTANGULARITY  \\\n",
       "count     846.000000              846.000000                 846.000000   \n",
       "mean       40.933806               20.582742                 147.998818   \n",
       "std         7.811560                2.592138                  14.515652   \n",
       "min        26.000000               17.000000                 118.000000   \n",
       "25%        33.000000               19.000000                 137.000000   \n",
       "50%        43.000000               20.000000                 146.000000   \n",
       "75%        46.000000               23.000000                 159.000000   \n",
       "max        61.000000               29.000000                 188.000000   \n",
       "\n",
       "       SCALED_VARIANCE_MAJOR  SCALED_VARIANCE_MINOR  \\\n",
       "count             846.000000             846.000000   \n",
       "mean              188.625296             439.911348   \n",
       "std                31.394837             176.692614   \n",
       "min               130.000000             184.000000   \n",
       "25%               167.000000             318.250000   \n",
       "50%               178.500000             364.000000   \n",
       "75%               217.000000             587.000000   \n",
       "max               320.000000            1018.000000   \n",
       "\n",
       "       SCALED_RADIUS_OF_GYRATION  SKEWNESS_ABOUT_MAJOR  SKEWNESS_ABOUT_MINOR  \\\n",
       "count                  846.00000            846.000000            846.000000   \n",
       "mean                   174.70331             72.462175              6.377069   \n",
       "std                     32.54649              7.486974              4.918353   \n",
       "min                    109.00000             59.000000              0.000000   \n",
       "25%                    149.00000             67.000000              2.000000   \n",
       "50%                    173.00000             71.500000              6.000000   \n",
       "75%                    198.00000             75.000000              9.000000   \n",
       "max                    268.00000            135.000000             22.000000   \n",
       "\n",
       "       KURTOSIS_ABOUT_MAJOR  KURTOSIS_ABOUT_MINOR  HOLLOWS_RATIO  \n",
       "count            846.000000            846.000000     846.000000  \n",
       "mean              12.599291            188.932624     195.632388  \n",
       "std                8.931240              6.163949       7.438797  \n",
       "min                0.000000            176.000000     181.000000  \n",
       "25%                5.000000            184.000000     190.250000  \n",
       "50%               11.000000            188.000000     197.000000  \n",
       "75%               19.000000            193.000000     201.000000  \n",
       "max               41.000000            206.000000     211.000000  "
      ],
      "text/html": "<div>\n<style scoped>\n    .dataframe tbody tr th:only-of-type {\n        vertical-align: middle;\n    }\n\n    .dataframe tbody tr th {\n        vertical-align: top;\n    }\n\n    .dataframe thead th {\n        text-align: right;\n    }\n</style>\n<table border=\"1\" class=\"dataframe\">\n  <thead>\n    <tr style=\"text-align: right;\">\n      <th></th>\n      <th>COMPACTNESS</th>\n      <th>CIRCULARITY</th>\n      <th>DISTANCE_CIRCULARITY</th>\n      <th>RADIUS_RATIO</th>\n      <th>PR.AXIS_ASPECT_RATIO</th>\n      <th>MAX.LENGTH_ASPECT_RATIO</th>\n      <th>SCATTER_RATIO</th>\n      <th>ELONGATEDNESS</th>\n      <th>PR.AXIS_RECTANGULARITY</th>\n      <th>MAX.LENGTH_RECTANGULARITY</th>\n      <th>SCALED_VARIANCE_MAJOR</th>\n      <th>SCALED_VARIANCE_MINOR</th>\n      <th>SCALED_RADIUS_OF_GYRATION</th>\n      <th>SKEWNESS_ABOUT_MAJOR</th>\n      <th>SKEWNESS_ABOUT_MINOR</th>\n      <th>KURTOSIS_ABOUT_MAJOR</th>\n      <th>KURTOSIS_ABOUT_MINOR</th>\n      <th>HOLLOWS_RATIO</th>\n    </tr>\n  </thead>\n  <tbody>\n    <tr>\n      <th>count</th>\n      <td>846.000000</td>\n      <td>846.000000</td>\n      <td>846.000000</td>\n      <td>846.000000</td>\n      <td>846.000000</td>\n      <td>846.000000</td>\n      <td>846.000000</td>\n      <td>846.000000</td>\n      <td>846.000000</td>\n      <td>846.000000</td>\n      <td>846.000000</td>\n      <td>846.000000</td>\n      <td>846.00000</td>\n      <td>846.000000</td>\n      <td>846.000000</td>\n      <td>846.000000</td>\n      <td>846.000000</td>\n      <td>846.000000</td>\n    </tr>\n    <tr>\n      <th>mean</th>\n      <td>93.678487</td>\n      <td>44.861702</td>\n      <td>82.088652</td>\n      <td>168.940898</td>\n      <td>61.693853</td>\n      <td>8.567376</td>\n      <td>168.839243</td>\n      <td>40.933806</td>\n      <td>20.582742</td>\n      <td>147.998818</td>\n      <td>188.625296</td>\n      <td>439.911348</td>\n      <td>174.70331</td>\n      <td>72.462175</td>\n      <td>6.377069</td>\n      <td>12.599291</td>\n      <td>188.932624</td>\n      <td>195.632388</td>\n    </tr>\n    <tr>\n      <th>std</th>\n      <td>8.234474</td>\n      <td>6.169866</td>\n      <td>15.771533</td>\n      <td>33.472183</td>\n      <td>7.888251</td>\n      <td>4.601217</td>\n      <td>33.244978</td>\n      <td>7.811560</td>\n      <td>2.592138</td>\n      <td>14.515652</td>\n      <td>31.394837</td>\n      <td>176.692614</td>\n      <td>32.54649</td>\n      <td>7.486974</td>\n      <td>4.918353</td>\n      <td>8.931240</td>\n      <td>6.163949</td>\n      <td>7.438797</td>\n    </tr>\n    <tr>\n      <th>min</th>\n      <td>73.000000</td>\n      <td>33.000000</td>\n      <td>40.000000</td>\n      <td>104.000000</td>\n      <td>47.000000</td>\n      <td>2.000000</td>\n      <td>112.000000</td>\n      <td>26.000000</td>\n      <td>17.000000</td>\n      <td>118.000000</td>\n      <td>130.000000</td>\n      <td>184.000000</td>\n      <td>109.00000</td>\n      <td>59.000000</td>\n      <td>0.000000</td>\n      <td>0.000000</td>\n      <td>176.000000</td>\n      <td>181.000000</td>\n    </tr>\n    <tr>\n      <th>25%</th>\n      <td>87.000000</td>\n      <td>40.000000</td>\n      <td>70.000000</td>\n      <td>141.000000</td>\n      <td>57.000000</td>\n      <td>7.000000</td>\n      <td>146.250000</td>\n      <td>33.000000</td>\n      <td>19.000000</td>\n      <td>137.000000</td>\n      <td>167.000000</td>\n      <td>318.250000</td>\n      <td>149.00000</td>\n      <td>67.000000</td>\n      <td>2.000000</td>\n      <td>5.000000</td>\n      <td>184.000000</td>\n      <td>190.250000</td>\n    </tr>\n    <tr>\n      <th>50%</th>\n      <td>93.000000</td>\n      <td>44.000000</td>\n      <td>80.000000</td>\n      <td>167.000000</td>\n      <td>61.000000</td>\n      <td>8.000000</td>\n      <td>157.000000</td>\n      <td>43.000000</td>\n      <td>20.000000</td>\n      <td>146.000000</td>\n      <td>178.500000</td>\n      <td>364.000000</td>\n      <td>173.00000</td>\n      <td>71.500000</td>\n      <td>6.000000</td>\n      <td>11.000000</td>\n      <td>188.000000</td>\n      <td>197.000000</td>\n    </tr>\n    <tr>\n      <th>75%</th>\n      <td>100.000000</td>\n      <td>49.000000</td>\n      <td>98.000000</td>\n      <td>195.000000</td>\n      <td>65.000000</td>\n      <td>10.000000</td>\n      <td>198.000000</td>\n      <td>46.000000</td>\n      <td>23.000000</td>\n      <td>159.000000</td>\n      <td>217.000000</td>\n      <td>587.000000</td>\n      <td>198.00000</td>\n      <td>75.000000</td>\n      <td>9.000000</td>\n      <td>19.000000</td>\n      <td>193.000000</td>\n      <td>201.000000</td>\n    </tr>\n    <tr>\n      <th>max</th>\n      <td>119.000000</td>\n      <td>59.000000</td>\n      <td>112.000000</td>\n      <td>333.000000</td>\n      <td>138.000000</td>\n      <td>55.000000</td>\n      <td>265.000000</td>\n      <td>61.000000</td>\n      <td>29.000000</td>\n      <td>188.000000</td>\n      <td>320.000000</td>\n      <td>1018.000000</td>\n      <td>268.00000</td>\n      <td>135.000000</td>\n      <td>22.000000</td>\n      <td>41.000000</td>\n      <td>206.000000</td>\n      <td>211.000000</td>\n    </tr>\n  </tbody>\n</table>\n</div>"
     },
     "metadata": {},
     "execution_count": 90
    }
   ]
  },
  {
   "source": [
    "## One-Hot encoding"
   ],
   "cell_type": "markdown",
   "metadata": {}
  },
  {
   "cell_type": "code",
   "execution_count": 89,
   "metadata": {},
   "outputs": [
    {
     "output_type": "stream",
     "name": "stdout",
     "text": [
      "[[95 48 83 ... 187 197 'van']\n [91 41 84 ... 189 199 'van']\n [104 50 106 ... 188 196 'saab']\n ...\n [106 54 101 ... 187 201 'saab']\n [86 36 78 ... 190 195 'saab']\n [85 36 66 ... 186 190 'van']]\n[[ 95.  48.  83. ...   0.   0.   0.]\n [ 91.  41.  84. ...   0.   0.   0.]\n [104.  50. 106. ...   1.   0.   0.]\n ...\n [106.  54. 101. ...   1.   0.   0.]\n [ 86.  36.  78. ...   1.   0.   0.]\n [ 85.  36.  66. ...   0.   0.   0.]]\n"
     ]
    }
   ],
   "source": [
    "default_objects = dataset.to_numpy()\n",
    "\n",
    "main_attribute = pd.unique(dataset['Class']) # get main attribute values\n",
    "objects_amount, attributes_amount = dataset.shape # get objects and attributes amounts\n",
    "\n",
    "zeros = np.zeros(objects_amount) # create zeros matrix with main_attribute size \n",
    "for i in range(len(main_attribute)-1):\n",
    "    zeros = np.c_[zeros, np.zeros(objects_amount)]\n",
    "\n",
    "objects = dataset.iloc[:, :attributes_amount-1].to_numpy() # slice before main attribute and convert to numpy\n",
    "objects = np.c_[objects, zeros] # create matrix with new attributes\n",
    "main_attribute = { main_attribute[i] : i for i in range(len(main_attribute) ) } # define main_attribute as dict\n",
    "\n",
    "for i in range(objects_amount): # convert main attribute to several attributes\n",
    "    objects[i][attributes_amount - 1 + main_attribute[default_objects[i][attributes_amount - 1]]] = 1 \n",
    "\n",
    "print(default_objects)\n",
    "print(objects)"
   ]
  },
  {
   "source": [
    "## Normalization and vectorization"
   ],
   "cell_type": "markdown",
   "metadata": {}
  },
  {
   "cell_type": "code",
   "execution_count": null,
   "metadata": {},
   "outputs": [],
   "source": [
    " hash_sum()"
   ]
  },
  {
   "source": [
    "## Metrics and Kernel functions"
   ],
   "cell_type": "markdown",
   "metadata": {}
  },
  {
   "cell_type": "code",
   "execution_count": 131,
   "metadata": {},
   "outputs": [
    {
     "output_type": "stream",
     "name": "stdout",
     "text": [
      "1.4142135623730951\n2\n1\n"
     ]
    }
   ],
   "source": [
    "from math import sqrt \n",
    "\n",
    "def euclidian_distance(vec1, vec2):\n",
    "    ans = 0\n",
    "    for i in range(len(vec1)):\n",
    "        ans += (vec1[i] - vec2[i]) ** 2\n",
    "    return sqrt(ans)\n",
    "\n",
    "def manhattan_distance(vec1, vec2):\n",
    "    ans = 0\n",
    "    for i in range(len(vec1)):\n",
    "        ans += abs(vec1[i] - vec2[i])\n",
    "    return ans\n",
    "\n",
    "def chebishev_distance(vec1, vec2):\n",
    "    ans = float(\"-inf\")\n",
    "    for i in range(len(vec1)):\n",
    "        ans = max(ans, abs(vec1[i] - vec2[i]))\n",
    "    return ans\n",
    "\n",
    "kernel_functions = {\n",
    "    \"uniform\":      lambda u: 0.5,\n",
    "    \"triangular\":   lambda u: 1 - abs(u),\n",
    "    \"epanechnikov\": lambda u: 0.75 * (1 - u ** 2),\n",
    "    \"quartic\":      lambda u: (15 / 16) * (1 - u ** 2) ** 2\n",
    "    }\n",
    "\n",
    "distance_functions = {\n",
    "    \"euclidian\": euclidian_distance,\n",
    "    \"manhattan\": manhattan_distance,\n",
    "    \"chebishev\": chebishev_distance\n",
    "}\n",
    "\n",
    "print(euclidian_distance([0,0,1],[0,1,0]))\n",
    "print(manhattan_distance([0,0,1],[0,1,0]))\n",
    "print(chebishev_distance([0,0,1],[0,1,0]))"
   ]
  },
  {
   "source": [
    "## k-stat"
   ],
   "cell_type": "markdown",
   "metadata": {}
  },
  {
   "cell_type": "code",
   "execution_count": 108,
   "metadata": {},
   "outputs": [
    {
     "output_type": "execute_result",
     "data": {
      "text/plain": [
       "7"
      ]
     },
     "metadata": {},
     "execution_count": 108
    }
   ],
   "source": [
    "import random\n",
    "\n",
    "def k_stat(arr, k):\n",
    "    def swap(a, b):\n",
    "        t = a \n",
    "        a = b \n",
    "        b = t \n",
    "\n",
    "\n",
    "    l = 0\n",
    "    r = len(arr)-1\n",
    "\n",
    "    def partition():\n",
    "        random = random.randint(l,r)\n",
    "        swap(arr[r], arr[random])\n",
    "        x = arr[r]\n",
    "        i = l\n",
    "        return 0\n",
    "    \n",
    "    m = partition()\n",
    "\n",
    "    return m\n",
    "\n",
    "k_stat([0,2,5,1,3,4,12,33], 3)\n"
   ]
  },
  {
   "source": [
    "## Nadaraya-Watson"
   ],
   "cell_type": "markdown",
   "metadata": {}
  },
  {
   "cell_type": "code",
   "execution_count": 138,
   "metadata": {},
   "outputs": [
    {
     "output_type": "execute_result",
     "data": {
      "text/plain": [
       "[1.4142135623730951,\n",
       " 0.0,\n",
       " 1.4142135623730951,\n",
       " 2.8284271247461903,\n",
       " 4.242640687119285]"
      ]
     },
     "metadata": {},
     "execution_count": 138
    }
   ],
   "source": [
    "def kernel_regression(objects, x, neighbours = 0, window_size = 0, distance_function_name = \"euclidian\", kernel_function_name = \"triangular\"):\n",
    "    distance_function = distance_functions[distance_function_name]\n",
    "    kernel_function = kernel_functions[kernel_function_name]\n",
    "\n",
    "    distances = [distance_function(x[:len(x)-4], obj[:len(x)-4]) for obj in objects]\n",
    "\n",
    "    window_parameter = 0\n",
    "    if (neighbours == 0):\n",
    "        window_parameter = window_size \n",
    "    else:\n",
    "        window_parameter = k_stat(distances, neighbours)\n",
    "\n",
    "    sum = [0] * len(main_attribute)\n",
    "    sum = np.array(sum)\n",
    "    for obj in range(len(objects)):\n",
    "        sum += objects[i][len(obj)-4:] * kernel_function(distances[i] / window_parameter)\n",
    "    \n",
    "    denominator = 0\n",
    "    for dist in distance_functions: \n",
    "        denominator += kernel_function(distances[i] / window_parameter)\n",
    "\n",
    "    return sum / denominator\n",
    "\n",
    "kernel_regression([[1,1,1,1,1,1],[2,2,2,2,2,2],[3,3,3,3,3,3],[4,4,4,4,4,4],[5,5,5,5,5,5]], [2,2,2,2,2,2], window_size = 2)    "
   ]
  },
  {
   "cell_type": "code",
   "execution_count": null,
   "metadata": {},
   "outputs": [],
   "source": []
  }
 ]
}