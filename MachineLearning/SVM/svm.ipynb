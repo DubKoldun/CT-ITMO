{
 "metadata": {
  "language_info": {
   "codemirror_mode": {
    "name": "ipython",
    "version": 3
   },
   "file_extension": ".py",
   "mimetype": "text/x-python",
   "name": "python",
   "nbconvert_exporter": "python",
   "pygments_lexer": "ipython3",
   "version": "3.8.5-final"
  },
  "orig_nbformat": 2,
  "kernelspec": {
   "name": "python3",
   "display_name": "Python 3"
  }
 },
 "nbformat": 4,
 "nbformat_minor": 2,
 "cells": [
  {
   "source": [
    "# SVM"
   ],
   "cell_type": "markdown",
   "metadata": {}
  },
  {
   "source": [
    "## Read dataset"
   ],
   "cell_type": "markdown",
   "metadata": {}
  },
  {
   "cell_type": "code",
   "execution_count": 2,
   "metadata": {},
   "outputs": [
    {
     "output_type": "execute_result",
     "data": {
      "text/plain": [
       "                x           y\n",
       "count  222.000000  222.000000\n",
       "mean    12.297297    3.576126\n",
       "std      7.862615    1.083950\n",
       "min      1.000000    1.700000\n",
       "25%      5.000000    2.300000\n",
       "50%     16.000000    4.000000\n",
       "75%     20.000000    4.400000\n",
       "max     23.000000    5.200000"
      ],
      "text/html": "<div>\n<style scoped>\n    .dataframe tbody tr th:only-of-type {\n        vertical-align: middle;\n    }\n\n    .dataframe tbody tr th {\n        vertical-align: top;\n    }\n\n    .dataframe thead th {\n        text-align: right;\n    }\n</style>\n<table border=\"1\" class=\"dataframe\">\n  <thead>\n    <tr style=\"text-align: right;\">\n      <th></th>\n      <th>x</th>\n      <th>y</th>\n    </tr>\n  </thead>\n  <tbody>\n    <tr>\n      <th>count</th>\n      <td>222.000000</td>\n      <td>222.000000</td>\n    </tr>\n    <tr>\n      <th>mean</th>\n      <td>12.297297</td>\n      <td>3.576126</td>\n    </tr>\n    <tr>\n      <th>std</th>\n      <td>7.862615</td>\n      <td>1.083950</td>\n    </tr>\n    <tr>\n      <th>min</th>\n      <td>1.000000</td>\n      <td>1.700000</td>\n    </tr>\n    <tr>\n      <th>25%</th>\n      <td>5.000000</td>\n      <td>2.300000</td>\n    </tr>\n    <tr>\n      <th>50%</th>\n      <td>16.000000</td>\n      <td>4.000000</td>\n    </tr>\n    <tr>\n      <th>75%</th>\n      <td>20.000000</td>\n      <td>4.400000</td>\n    </tr>\n    <tr>\n      <th>max</th>\n      <td>23.000000</td>\n      <td>5.200000</td>\n    </tr>\n  </tbody>\n</table>\n</div>"
     },
     "metadata": {},
     "execution_count": 2
    }
   ],
   "source": [
    "import pandas as pd\n",
    "import numpy as np\n",
    "from math import e\n",
    "\n",
    "dataset = pd.read_csv('/home/vutaliy/Downloads/geyser.csv')\n",
    "objects = dataset.to_numpy()\n",
    "classes = objects[:,-1]\n",
    "objects = objects[:,:-1]\n",
    "dataset.describe()\n"
   ]
  },
  {
   "source": [
    "## Kernel functions and precalculating kernel values"
   ],
   "cell_type": "markdown",
   "metadata": {}
  },
  {
   "cell_type": "code",
   "execution_count": 3,
   "metadata": {},
   "outputs": [],
   "source": [
    "kernel_functions = {\n",
    "    \"linear\" :   lambda d, x, y: np.dot(x,y),\n",
    "    \"polynom\" :  lambda d, x, y: np.dot(x,y) ** d,\n",
    "    \"gaussian\" : lambda b, x, y: e ** ((- b) * np.linalg.norm(x - y) ** 2)\n",
    "}\n",
    "\n",
    "def calculate_ker_values(ker_fun, objs, param = 0):\n",
    "    return [[kernel_functions[ker_fun](param, obj_j, obj_i) for obj_j in objs] for obj_i in objs]"
   ]
  },
  {
   "cell_type": "code",
   "execution_count": 4,
   "metadata": {
    "tags": []
   },
   "outputs": [
    {
     "output_type": "stream",
     "name": "stdout",
     "text": [
      "linear\n",
      "polynom\n",
      "gaussian\n"
     ]
    }
   ],
   "source": [
    "def precalculate_ker_values(objs):\n",
    "    ans = {}\n",
    "    for ker_fun in kernel_functions.keys():\n",
    "        print(ker_fun)\n",
    "        if ker_fun == \"polynom\":\n",
    "            for i in range(2,6):\n",
    "                ans[(ker_fun, i)] = calculate_ker_values(ker_fun, objs, i)\n",
    "        elif ker_fun == \"gaussian\":\n",
    "            for i in range (1,6):\n",
    "                ans[(ker_fun, i)] = calculate_ker_values(ker_fun, objs, i)\n",
    "        else:\n",
    "            ans[(ker_fun, 0)] = calculate_ker_values(ker_fun, objs, 0)\n",
    "\n",
    "    return ans\n",
    "\n",
    "ker_values = precalculate_ker_values(objects)"
   ]
  },
  {
   "source": [
    "## Sequential Minimal Optimization algorithm"
   ],
   "cell_type": "markdown",
   "metadata": {}
  },
  {
   "cell_type": "code",
   "execution_count": null,
   "metadata": {},
   "outputs": [],
   "source": [
    "def smo(ker_values, classes, n, max_amount, reg_param):\n",
    "    alpha = np.array([0] * n)\n",
    "    threshold = 0\n",
    "    return alpha, threshold"
   ]
  },
  {
   "cell_type": "code",
   "execution_count": null,
   "metadata": {},
   "outputs": [],
   "source": []
  }
 ]
}