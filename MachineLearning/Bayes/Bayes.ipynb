{
 "metadata": {
  "language_info": {
   "codemirror_mode": {
    "name": "ipython",
    "version": 3
   },
   "file_extension": ".py",
   "mimetype": "text/x-python",
   "name": "python",
   "nbconvert_exporter": "python",
   "pygments_lexer": "ipython3",
   "version": "3.8.5-final"
  },
  "orig_nbformat": 2,
  "kernelspec": {
   "name": "python3",
   "display_name": "Python 3"
  }
 },
 "nbformat": 4,
 "nbformat_minor": 2,
 "cells": [
  {
   "source": [
    "# Naive Bayes"
   ],
   "cell_type": "markdown",
   "metadata": {}
  },
  {
   "source": [
    "## Refactoring data"
   ],
   "cell_type": "markdown",
   "metadata": {}
  },
  {
   "cell_type": "code",
   "execution_count": 2,
   "metadata": {
    "tags": []
   },
   "outputs": [],
   "source": [
    "import os, glob\n",
    "import re\n",
    "\n",
    "def write_mess2file(messages_path, cur_file, mess_type = \"train\"):\n",
    "    classes = []\n",
    "    for mess_name in glob.glob(os.path.join(messages_path, '*.txt')):\n",
    "        is_legit = 2\n",
    "        legit_match = re.match(messages_path + r'/\\d*legit\\d*\\.txt', mess_name)\n",
    "        \n",
    "        if legit_match:\n",
    "            is_legit = 1\n",
    "        \n",
    "        if (mess_type == \"train\"):\n",
    "            cur_file.write(str(is_legit) + \" \")\n",
    "        else:\n",
    "            classes.append(is_legit)\n",
    "\n",
    "\n",
    "        message = open(mess_name, \"r\")\n",
    "        subj = message.readline().split()\n",
    "        rest = message.read().split()\n",
    "        \n",
    "        subj_size = len(subj)\n",
    "        rest_size = len(rest)\n",
    "        cur_file.write(str(subj_size + rest_size - 1) + \" \")\n",
    "        \n",
    "        for j in range(1, subj_size): \n",
    "            cur_file.write(\"-\" + subj[j] + \" \")\n",
    "        \n",
    "        for j in range(0, rest_size - 1):\n",
    "            cur_file.write(rest[j] + \" \")\n",
    "        cur_file.write(rest[rest_size - 1] + \"\\n\")\n",
    "\n",
    "    return classes\n",
    "\n",
    "\n",
    "def generate_test_part(test_part, penalties, smooth_intense):\n",
    "    file_path = '/home/vutaliy/prod/university-courses/MachineLearning/Bayes/test/test{0}'.format(test_part)\n",
    "    cur_file = open(file_path, \"w\")\n",
    "    cur_file.write(\"2\\n\")\n",
    "\n",
    "    for i in range(len(penalties) - 1):\n",
    "        cur_file.write(str(penalties[i]) + \" \")\n",
    "    cur_file.write(str(penalties[len(penalties)-1]) + \"\\n\") \n",
    "\n",
    "    cur_file.write(str(smooth_intense) + \"\\n\")\n",
    "    mess_count = 0\n",
    "\n",
    "    test_mess_path = '/home/vutaliy/Downloads/messages/part{0}'.format(test_part)\n",
    "    \n",
    "    r, d, f = next(os.walk(test_mess_path))\n",
    "    test_mess_count = len(f)\n",
    "    \n",
    "    for root,dirs,file_ in os.walk('/home/vutaliy/Downloads/messages'):\n",
    "        mess_count += len(file_)\n",
    "    cur_file.write(str(mess_count - 1 - test_mess_count) + \"\\n\")\n",
    "\n",
    "    for i in range(1, 11):\n",
    "        messages_path = '/home/vutaliy/Downloads/messages/part{0}'.format(i)\n",
    "\n",
    "        if i == test_part:\n",
    "            continue\n",
    "    \n",
    "        write_mess2file(messages_path, cur_file)\n",
    "    \n",
    "    cur_file.write(str(test_mess_count) + \"\\n\")\n",
    "    classes = write_mess2file(test_mess_path, cur_file, mess_type = \"test\")\n",
    "\n",
    "    cur_file.close()\n",
    "\n",
    "    return classes\n",
    "            # print(filename)\n",
    "    # with open(filename, 'r') as f:\n",
    "    #     text = f.read()\n",
    "    #     print (filename)\n",
    "    #     print (len(text))"
   ]
  },
  {
   "source": [
    "## Cpp import\n",
    "```bash\n",
    "cd src\n",
    "g++ -c -fPIC \"naiveBayes.cpp\" -o \"naiveBayes.o\"\n",
    "g++ -shared -Wl,-soname,\"naiveBayes.so\" -o \"naiveBayes.so\" \"naiveBayes.o\" \n",
    "```"
   ],
   "cell_type": "markdown",
   "metadata": {}
  },
  {
   "cell_type": "code",
   "execution_count": 1,
   "metadata": {},
   "outputs": [],
   "source": [
    "import src.BayesCalling as bc\n",
    "\n",
    "\n",
    "\n",
    "def gen_all_test_parts():\n",
    "    for i in range(1,11):\n",
    "        path_from = \"/home/vutaliy/prod/university-courses/MachineLearning/Bayes/test/test1\"\n",
    "        path_to = \"/home/vutaliy/prod/university-courses/MachineLearning/Bayes/ans\"\n",
    "        classes = generate_test_part(i, [0.1, 0.2], 0.001)\n",
    "        bc.naive_bayes(1, path_from, path_to) \n",
    "\n",
    "# bc.check(1, path_to)\n"
   ]
  },
  {
   "cell_type": "code",
   "execution_count": 19,
   "metadata": {},
   "outputs": [],
   "source": [
    "file_path = '/home/vutaliy/prod/university-courses/MachineLearning/Bayes/test/test{0}'.format(1)\n",
    "cur_file = open(file_path, \"w\")\n",
    "\n",
    "cur_file.writelines([str(1) + \" \",str(2) + \" \",str(3)])\n",
    "cur_file.write(\"12\")\n",
    "cur_file.write(\"12\")\n",
    "\n",
    "cur_file.close()"
   ]
  },
  {
   "cell_type": "code",
   "execution_count": 29,
   "metadata": {
    "tags": []
   },
   "outputs": [
    {
     "output_type": "execute_result",
     "data": {
      "text/plain": [
       "1091"
      ]
     },
     "metadata": {},
     "execution_count": 29
    }
   ],
   "source": [
    "# path, dirs, files = \n",
    "# print(len(files))\n",
    "# # print(len(dirs))\n",
    "size = 0\n",
    "for root,dirs,file_ in os.walk('/home/vutaliy/Downloads/messages'):\n",
    "    size += len(file_)\n",
    "size"
   ]
  }
 ]
}